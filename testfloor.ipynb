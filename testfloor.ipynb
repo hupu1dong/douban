{
 "cells": [
  {
   "cell_type": "code",
   "execution_count": 1,
   "metadata": {},
   "outputs": [
    {
     "name": "stdout",
     "output_type": "stream",
     "text": [
      "pppppyyyyythhhhhooooonnnnn"
     ]
    }
   ],
   "source": [
    "for i in \"python\":\n",
    "\tfor j in range(5):\n",
    "\t\tprint(i, end=\"\")\n",
    "\t\tif i == \"t\":\n",
    "\t\t\tbreak\n",
    "#程序执行结果为：pppppyyyyytooooonnnnn\n"
   ]
  },
  {
   "cell_type": "code",
   "execution_count": 4,
   "metadata": {},
   "outputs": [
    {
     "name": "stdout",
     "output_type": "stream",
     "text": [
      "1 0\n",
      "1 1\n",
      "1 3\n",
      "2 0\n",
      "2 1\n",
      "2 3\n",
      "3 0\n",
      "3 1\n",
      "3 3\n",
      "4 0\n",
      "4 1\n",
      "4 3\n"
     ]
    }
   ],
   "source": [
    "for i in range(1,5):\n",
    "    for j in range(0,4):\n",
    "        if j == 2:\n",
    "            continue\n",
    "        else:\n",
    "            print(i,j)"
   ]
  },
  {
   "cell_type": "code",
   "execution_count": 5,
   "metadata": {},
   "outputs": [
    {
     "name": "stdout",
     "output_type": "stream",
     "text": [
      "a: 0 b: 0 c: 0\n",
      "a: 0 b: 0 c: 1\n",
      "a: 0 b: 0 c: 2\n",
      "a: 0 b: 0 c: 3\n",
      "a: 0 b: 0 c: 4\n",
      "a: 0 b: 1 c: 0\n",
      "a: 0 b: 1 c: 1\n",
      "a: 0 b: 1 c: 2\n",
      "a: 0 b: 1 c: 3\n",
      "a: 0 b: 1 c: 4\n",
      "a: 0 b: 2 c: 0\n",
      "a: 0 b: 2 c: 1\n",
      "a: 0 b: 2 c: 2\n",
      "a: 0 b: 2 c: 3\n",
      "a: 0 b: 2 c: 4\n",
      "a: 1 b: 0 c: 0\n",
      "a: 1 b: 0 c: 1\n",
      "a: 1 b: 0 c: 2\n",
      "a: 1 b: 0 c: 3\n",
      "a: 1 b: 0 c: 4\n",
      "a: 1 b: 1 c: 0\n",
      "a: 1 b: 1 c: 1\n",
      "a: 1 b: 1 c: 2\n",
      "a: 1 b: 1 c: 3\n",
      "a: 1 b: 1 c: 4\n",
      "a: 1 b: 2 c: 0\n",
      "a: 1 b: 2 c: 1\n",
      "a: 1 b: 2 c: 2\n",
      "a: 1 b: 2 c: 3\n",
      "a: 1 b: 2 c: 4\n",
      "a: 2 b: 0 c: 0\n",
      "a: 2 b: 0 c: 1\n",
      "a: 2 b: 0 c: 2\n",
      "a: 2 b: 0 c: 3\n",
      "a: 2 b: 0 c: 4\n",
      "a: 2 b: 1 c: 0\n",
      "a: 2 b: 1 c: 1\n",
      "a: 2 b: 1 c: 2\n",
      "a: 2 b: 1 c: 3\n",
      "a: 2 b: 1 c: 4\n",
      "a: 2 b: 2 c: 0\n",
      "a: 2 b: 2 c: 1\n",
      "a: 2 b: 2 c: 2\n",
      "a: 2 b: 2 c: 3\n",
      "a: 2 b: 2 c: 4\n"
     ]
    }
   ],
   "source": [
    "for a  in range(3):\n",
    "    for b in range(4):\n",
    "        for c in range(5):\n",
    "            print('a:',a,'b:',b,'c:',c)\n",
    "        if b ==2:\n",
    "            break\n",
    "#             continue"
   ]
  },
  {
   "cell_type": "code",
   "execution_count": 9,
   "metadata": {},
   "outputs": [
    {
     "name": "stdout",
     "output_type": "stream",
     "text": [
      "0\n",
      "1\n",
      "2\n",
      "3\n"
     ]
    }
   ],
   "source": [
    "for i in range(4):\n",
    "    print(i)\n",
    "    if i == 3:\n",
    "        continue\n",
    "    "
   ]
  },
  {
   "cell_type": "code",
   "execution_count": null,
   "metadata": {},
   "outputs": [],
   "source": []
  },
  {
   "cell_type": "code",
   "execution_count": null,
   "metadata": {},
   "outputs": [],
   "source": []
  },
  {
   "cell_type": "code",
   "execution_count": null,
   "metadata": {},
   "outputs": [],
   "source": []
  }
 ],
 "metadata": {
  "kernelspec": {
   "display_name": "Python 3",
   "language": "python",
   "name": "python3"
  },
  "language_info": {
   "codemirror_mode": {
    "name": "ipython",
    "version": 3
   },
   "file_extension": ".py",
   "mimetype": "text/x-python",
   "name": "python",
   "nbconvert_exporter": "python",
   "pygments_lexer": "ipython3",
   "version": "3.7.6"
  }
 },
 "nbformat": 4,
 "nbformat_minor": 4
}
