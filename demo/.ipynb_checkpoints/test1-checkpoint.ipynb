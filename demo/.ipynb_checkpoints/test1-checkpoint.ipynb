{
 "cells": [
  {
   "cell_type": "code",
   "execution_count": null,
   "metadata": {},
   "outputs": [],
   "source": [
    "from selenium import webdriver\n",
    "from selenium.webdriver.support.select import Select\n",
    "from selenium.webdriver.support.wait import WebDriverWait\n",
    "from selenium.webdriver.support import expected_conditions as EC\n",
    "from selenium.webdriver.common.by import By\n",
    "from selenium.common.exceptions import TimeoutException\n",
    "import time\n",
    "from PIL import Image\n",
    "import pytesseract # pip install pytesseract\n",
    "url='https://isisn.nsfc.gov.cn/egrantindex/funcindex/prjsearch-list'\n",
    "driver=webdriver.Firefox(executable_path='D:\\driver\\geckodriver.exe') # firefox版本：80\n",
    "driver.maximize_window()\n",
    "driver.get(url)\n",
    "\n",
    "sel = driver.find_elements_by_xpath(\"//select[@id='f_grantCode']/option\")   #0为空，1，2，10，11必须同时选择申请代码\n",
    "sel2 = driver.find_elements_by_xpath(\"//select[@id='f_year']/option\")\n",
    "print(sel[3])"
   ]
  },
  {
   "cell_type": "code",
   "execution_count": null,
   "metadata": {},
   "outputs": [],
   "source": []
  }
 ],
 "metadata": {
  "kernelspec": {
   "display_name": "Python 3",
   "language": "python",
   "name": "python3"
  },
  "language_info": {
   "codemirror_mode": {
    "name": "ipython",
    "version": 3
   },
   "file_extension": ".py",
   "mimetype": "text/x-python",
   "name": "python",
   "nbconvert_exporter": "python",
   "pygments_lexer": "ipython3",
   "version": "3.7.6"
  }
 },
 "nbformat": 4,
 "nbformat_minor": 1
}
