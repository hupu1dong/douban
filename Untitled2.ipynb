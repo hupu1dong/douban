{
 "cells": [
  {
   "cell_type": "code",
   "execution_count": null,
   "metadata": {},
   "outputs": [],
   "source": [
    "from selenium import webdriver\n",
    "from selenium.webdriver.support.select import Select\n",
    "from selenium.webdriver.support.wait import WebDriverWait\n",
    "from selenium.webdriver.support import expected_conditions as EC\n",
    "from selenium.webdriver.common.by import By\n",
    "from selenium.common.exceptions import TimeoutException\n",
    "from selenium.webdriver.common.keys import Keys\n",
    "from selenium.webdriver.common.action_chains import ActionChains\n",
    "import time,datetime\n",
    "from time import sleep\n",
    "from PIL import Image\n",
    "import pytesseract # pip install pytesseract\n",
    "import random\n",
    "\n",
    "options = webdriver.FirefoxOptions()\n",
    "options.add_argument(\"--proxy-server=http://1.196.177.213:9999\")\n",
    "options.add_argument('User-Agent=\"Mozilla/5.0 (Windows NT 10.0; Win64; x64) AppleWebKit/537.36 (KHTML, like Gecko) Chrome/86.0.4240.198 Safari/537.36 Edg/86.0.622.69\"')\n",
    "url='https://isisn.nsfc.gov.cn/egrantindex/funcindex/prjsearch-list'\n",
    "driver=webdriver.Firefox(executable_path='D:\\driver\\geckodriver.exe',options=options) # firefox版本：80\n",
    "driver.maximize_window()\n",
    "driver.get(url)\n",
    "driver.find_element_by_xpath(\"//a[@id='f_subjectCode_img']\").click()\n",
    "sleep(1)\n",
    "nc = driver.find_elements_by_xpath(\"//div[@id='f_subjectCode_treeId']/li/button\")\n",
    "nc[0].click()\n",
    "sleep(1)\n",
    "nc2 = driver.find_elements_by_xpath(\"//div[@id='f_subjectCode_treeId']/li//ul/li//span\")\n",
    "for j in range(len(nc2)):\n",
    "        driver.find_elements_by_xpath(\"//div[@id='f_subjectCode_treeId']/li//ul/li//span\")[j].click()\n",
    "        sleep(1)\n",
    "        driver.find_element_by_xpath(\"//a[@id='f_subjectCode_img']\").click()\n",
    "        sleep(1)\n",
    "        nc = driver.find_elements_by_xpath(\"//div[@id='f_subjectCode_treeId']/li/button\")\n",
    "        nc[0].click()\n",
    "        sleep(2)\n",
    "\n",
    "\n",
    "for i in range(1,len(nc)):\n",
    "    for j in range(len(nc2)):\n",
    "        driver.find_elements_by_xpath(\"//div[@id='f_subjectCode_treeId']/li//ul/li//span\")[j].click()\n",
    "        sleep(1)\n",
    "        driver.find_element_by_xpath(\"//a[@id='f_subjectCode_img']\").click()\n",
    "        sleep(1)\n",
    "        nc = driver.find_elements_by_xpath(\"//div[@id='f_subjectCode_treeId']/li/button\")\n",
    "        nc[i].click()\n",
    "        sleep(2)\n",
    "else:\n",
    "    driver.quit()"
   ]
  },
  {
   "cell_type": "code",
   "execution_count": null,
   "metadata": {},
   "outputs": [],
   "source": []
  },
  {
   "cell_type": "code",
   "execution_count": null,
   "metadata": {},
   "outputs": [],
   "source": []
  }
 ],
 "metadata": {
  "kernelspec": {
   "display_name": "Python 3",
   "language": "python",
   "name": "python3"
  },
  "language_info": {
   "codemirror_mode": {
    "name": "ipython",
    "version": 3
   },
   "file_extension": ".py",
   "mimetype": "text/x-python",
   "name": "python",
   "nbconvert_exporter": "python",
   "pygments_lexer": "ipython3",
   "version": "3.7.6"
  }
 },
 "nbformat": 4,
 "nbformat_minor": 4
}
